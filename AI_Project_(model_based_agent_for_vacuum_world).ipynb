{
  "nbformat": 4,
  "nbformat_minor": 0,
  "metadata": {
    "colab": {
      "provenance": []
    },
    "kernelspec": {
      "name": "python3",
      "display_name": "Python 3"
    },
    "language_info": {
      "name": "python"
    }
  },
  "cells": [
    {
      "cell_type": "markdown",
      "source": [
        "The vaccummes go to adjacent rooms after they are finished cleaning the room and if there is a vaccumme already present in the room, then they go to the other adjacent room.\n"
      ],
      "metadata": {
        "id": "NdDC1Eh7w44M"
      }
    },
    {
      "cell_type": "code",
      "source": [
        "import random"
      ],
      "metadata": {
        "id": "1cM6KZn2xGw-"
      },
      "execution_count": 22,
      "outputs": []
    },
    {
      "cell_type": "markdown",
      "source": [
        "[dirty-V]: Represents a room that is dirty and currently has a vacuum in it.\n",
        "\n",
        "\n",
        "\n",
        "[clean-V]: Represents a room that is clean and currently has a vacuum in it."
      ],
      "metadata": {
        "id": "4eMN-Q5mwGmf"
      }
    },
    {
      "cell_type": "code",
      "source": [
        "def initialize_environment(n, m):\n",
        "    rooms = ['clean' for _ in range(n)]\n",
        "    vacuums = random.sample(range(n), m)\n",
        "    return rooms, vacuums\n",
        "\n",
        "def is_dirty(eta):\n",
        "    return random.random() < eta\n",
        "\n",
        "def get_adjacent_rooms(current_position, n):\n",
        "    return [(current_position - 1) % n, (current_position + 1) % n]\n",
        "\n",
        "def compute_dirty_rooms(rooms):\n",
        "    return rooms.count('dirty')\n",
        "\n",
        "def find_dirty_adjacent(vacuum, rooms, n):\n",
        "    adjacent_rooms = get_adjacent_rooms(vacuum, n)\n",
        "    for room in adjacent_rooms:\n",
        "        if rooms[room] == 'dirty':\n",
        "            return room\n",
        "    return None\n",
        "\n",
        "def display_environment(rooms, vacuums):\n",
        "    representation = []\n",
        "    for i, room in enumerate(rooms):\n",
        "        if i in vacuums:\n",
        "            representation.append(f\"[{room}-V]\")\n",
        "        else:\n",
        "            representation.append(f\"[{room}]\")\n",
        "    return \" \".join(representation)\n",
        "\n",
        "def simulate_vacuum_world(n, m, eta, N):\n",
        "    rooms, vacuums = initialize_environment(n, m)\n",
        "    total_dirty_rooms = 0  # Keep a running total of all dirty rooms across iterations\n",
        "\n",
        "    for room_idx in range(n):\n",
        "        if is_dirty(eta):\n",
        "            rooms[room_idx] = 'dirty'\n",
        "\n",
        "    total_dirty_rooms += compute_dirty_rooms(rooms)  # Initial count\n",
        "    print(f\"After Initialization - Average number of rooms that remained unclean: {total_dirty_rooms:.2f}\")\n",
        "    print(display_environment(rooms, vacuums))\n",
        "\n",
        "    for iteration in range(N):\n",
        "\n",
        "        targets = []\n",
        "\n",
        "        for vacuum in vacuums:\n",
        "            target = vacuum  # default to current position\n",
        "\n",
        "            if rooms[vacuum] == 'dirty':\n",
        "                rooms[vacuum] = 'clean'\n",
        "            else:\n",
        "                target_dirty_adjacent = find_dirty_adjacent(vacuum, rooms, n)\n",
        "\n",
        "                if target_dirty_adjacent is not None:\n",
        "                    target = target_dirty_adjacent\n",
        "                else:\n",
        "                    dirty_rooms = [i for i, room in enumerate(rooms) if room == 'dirty' and i not in vacuums]\n",
        "                    if dirty_rooms:\n",
        "                        target = random.choice(dirty_rooms)\n",
        "\n",
        "            targets.append(target)\n",
        "\n",
        "        for i, target in enumerate(targets):\n",
        "            if targets.count(target) > 1:\n",
        "                other_dirty_rooms = [idx for idx in range(n) if rooms[idx] == 'dirty' and idx not in targets]\n",
        "                if other_dirty_rooms:\n",
        "                    targets[i] = random.choice(other_dirty_rooms)\n",
        "\n",
        "        vacuums[:] = targets  # update vacuum positions\n",
        "        total_dirty_rooms += compute_dirty_rooms(rooms)\n",
        "\n",
        "        average_dirty_rooms = total_dirty_rooms / (iteration + 2)  # +2 to account for starting from 0 and initial state\n",
        "        print(f\"After Iteration {iteration + 1} - Average number of rooms that remained unclean: {average_dirty_rooms:.2f}\")\n",
        "        print(display_environment(rooms, vacuums))\n",
        "\n",
        "n = 10  # number of rooms\n",
        "m = 2   # number of vacuums\n",
        "eta = 0.3  # probability that a room is dirty\n",
        "N = 5  # number of iterations\n",
        "\n",
        "simulate_vacuum_world(n, m, eta, N)\n"
      ],
      "metadata": {
        "colab": {
          "base_uri": "https://localhost:8080/"
        },
        "id": "U-q-fhIWkNbI",
        "outputId": "1a4a5087-d0fa-4609-8a83-15d16a8afeb9"
      },
      "execution_count": 23,
      "outputs": [
        {
          "output_type": "stream",
          "name": "stdout",
          "text": [
            "After Initialization - Average number of rooms that remained unclean: 7.00\n",
            "[dirty] [dirty] [dirty] [dirty] [clean-V] [clean] [clean] [dirty] [dirty-V] [dirty]\n",
            "After Iteration 1 - Average number of rooms that remained unclean: 6.50\n",
            "[dirty] [dirty] [dirty] [dirty-V] [clean] [clean] [clean] [dirty] [clean-V] [dirty]\n",
            "After Iteration 2 - Average number of rooms that remained unclean: 6.00\n",
            "[dirty] [dirty] [dirty] [clean-V] [clean] [clean] [clean] [dirty-V] [clean] [dirty]\n",
            "After Iteration 3 - Average number of rooms that remained unclean: 5.50\n",
            "[dirty] [dirty] [dirty-V] [clean] [clean] [clean] [clean] [clean-V] [clean] [dirty]\n",
            "After Iteration 4 - Average number of rooms that remained unclean: 5.00\n",
            "[dirty] [dirty-V] [clean-V] [clean] [clean] [clean] [clean] [clean] [clean] [dirty]\n",
            "After Iteration 5 - Average number of rooms that remained unclean: 4.50\n",
            "[dirty] [clean-V] [clean] [clean] [clean] [clean] [clean] [clean] [clean] [dirty-V]\n"
          ]
        }
      ]
    }
  ]
}